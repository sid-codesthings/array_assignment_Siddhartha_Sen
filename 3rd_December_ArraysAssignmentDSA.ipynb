{
 "cells": [
  {
   "cell_type": "code",
   "execution_count": 77,
   "id": "d851573f",
   "metadata": {},
   "outputs": [
    {
     "data": {
      "text/plain": [
       "True"
      ]
     },
     "execution_count": 77,
     "metadata": {},
     "output_type": "execute_result"
    }
   ],
   "source": [
    "'''\n",
    "Q1. Given an array, check if it contains any duplicates or not. \n",
    "\n",
    "arr = [1, 2, 4, 2, 5, 9] \n",
    "\n",
    "Output = True\n",
    "\n",
    "'''\n",
    "# Logic : I am checking each number's appearance within the array is more than 1 or not. More than 1 means duplicate .\n",
    "\n",
    "def checking(arr):\n",
    "    for i in arr:\n",
    "        c = 0\n",
    "        for j in arr:\n",
    "            if j == i:\n",
    "                c = c + 1\n",
    "        if(c > 1):\n",
    "            return True\n",
    "            break\n",
    "\n",
    "# Driver Code\n",
    "arr = [1, 2, 4, 2, 5, 9]\n",
    "checking(arr)\n",
    "\n",
    "# time Complexity of code : O(n^2)\n",
    "# space complexity : O(1)"
   ]
  },
  {
   "cell_type": "code",
   "execution_count": 141,
   "id": "85db3821",
   "metadata": {},
   "outputs": [
    {
     "data": {
      "text/plain": [
       "'Rotated Array: [5, 6, 7, 1, 2, 3, 4]'"
      ]
     },
     "execution_count": 141,
     "metadata": {},
     "output_type": "execute_result"
    }
   ],
   "source": [
    "'''\n",
    "Q2. Given an array and an integer k, rotate the array to the right by k steps. \n",
    "\n",
    "arr = [1, 2, 3, 4, 5, 6, 7] k = 3 \n",
    "\n",
    "Output = [5, 6, 7, 1, 2, 3, 4]\n",
    "\n",
    "'''\n",
    "# Logic : I am using slicing to rotate the array to the right by K steps.\n",
    "def rotate(arr,k):\n",
    "    arr = arr[-k:] + arr[:-k]\n",
    "    return f\"Rotated Array: {arr}\"\n",
    "# Driver Code\n",
    "arr = [1, 2, 3, 4, 5, 6, 7]\n",
    "k = 3\n",
    "rotate(arr,k)\n",
    "# Time complexity : O(1)\n",
    "# Space Complexity : O(1)"
   ]
  },
  {
   "cell_type": "code",
   "execution_count": 7,
   "id": "eefaecb6",
   "metadata": {},
   "outputs": [
    {
     "data": {
      "text/plain": [
       "'Reversed Array : [12, 9, 7, 5, 4, 2]'"
      ]
     },
     "execution_count": 7,
     "metadata": {},
     "output_type": "execute_result"
    }
   ],
   "source": [
    "'''\n",
    "Q3. Reverse the given array in-place, means without using any extra data structure. \n",
    "\n",
    "arr = [2, 4, 5, 7, 9, 12] \n",
    "\n",
    "Output = [12, 9, 7, 5, 4, 2]\n",
    "\n",
    "'''\n",
    "# Logic : Using slicing to reverse the array . No extra data structure .\n",
    "def reversing(arr):\n",
    "    return f'Reversed Array : {arr[::-1]}'\n",
    "    \n",
    "# Driver Code\n",
    "arr = [2, 4, 5, 7, 9, 12]\n",
    "reversing(arr)\n",
    "\n",
    "# Time complexity : O(1)\n",
    "# Space Complexity : O(1)"
   ]
  },
  {
   "cell_type": "code",
   "execution_count": 12,
   "id": "6f30bc55",
   "metadata": {},
   "outputs": [
    {
     "data": {
      "text/plain": [
       "'Maximum element : 20'"
      ]
     },
     "execution_count": 12,
     "metadata": {},
     "output_type": "execute_result"
    }
   ],
   "source": [
    "'''\n",
    "Q4. Given an array of integers, find the maximum element in an array\n",
    "\n",
    "arr = [10, 5, 20, 8, 15]\n",
    "\n",
    "Output = 20\n",
    "\n",
    "'''\n",
    "\n",
    "# Logic : Initialising the max element with 1st array value and then comparing it with other values and storing the greater\n",
    "# number in max variable after comparison.\n",
    "\n",
    "def max(arr):\n",
    "    l = len(arr)\n",
    "    max = arr[0]\n",
    "    for i in range(l):\n",
    "        if(arr[i] > max):\n",
    "            max = arr[i]\n",
    "    return f'Maximum element : {max}'\n",
    "    \n",
    "    \n",
    "    \n",
    "# Driver Code\n",
    "arr = [10, 5, 20, 8, 15]\n",
    "max(arr)\n",
    "\n",
    "# Time Complexity : O(n) , depends on size of given array .\n",
    "# Space Complexity : O(1)"
   ]
  },
  {
   "cell_type": "code",
   "execution_count": 30,
   "id": "2f436696",
   "metadata": {},
   "outputs": [
    {
     "data": {
      "text/plain": [
       "[1, 2, 3, 4, 5]"
      ]
     },
     "execution_count": 30,
     "metadata": {},
     "output_type": "execute_result"
    }
   ],
   "source": [
    "'''\n",
    "Q5. Given a sorted array, remove the duplicate element without using any extra data structure. \n",
    "\n",
    "arr = [1, 1, 2, 2, 2, 3, 3, 4, 4, 4, 5, 5] \n",
    "\n",
    "Output = [1, 2, 3, 4, 5]\n",
    "\n",
    "'''\n",
    "# Logic : I am comparing consecutive numbers and storing them within the same array if they are different from the next number.\n",
    "# Storing the last element separately to add it later to the new non_duplicate representation otherwise we will face the error\n",
    "# of list out of index .\n",
    "\n",
    "def remov_dup(arr):\n",
    "    l = len(arr)\n",
    "    j = 0\n",
    "    last_element = arr[l-1]\n",
    "    for i in range(l-1):\n",
    "        if(arr[i] != arr[i+1]):\n",
    "            arr[j] = arr[i]\n",
    "            j = j + 1\n",
    "    arr[j] = last_element\n",
    "    arr = arr[:(j+1)]\n",
    "    return arr\n",
    "\n",
    "\n",
    "\n",
    "# Driver Code \n",
    "arr = [1, 1, 2, 2, 2, 3, 3, 4, 4, 4, 5, 5]\n",
    "remov_dup(arr)"
   ]
  },
  {
   "cell_type": "code",
   "execution_count": null,
   "id": "af60e0d7",
   "metadata": {},
   "outputs": [],
   "source": []
  }
 ],
 "metadata": {
  "kernelspec": {
   "display_name": "Python 3 (ipykernel)",
   "language": "python",
   "name": "python3"
  },
  "language_info": {
   "codemirror_mode": {
    "name": "ipython",
    "version": 3
   },
   "file_extension": ".py",
   "mimetype": "text/x-python",
   "name": "python",
   "nbconvert_exporter": "python",
   "pygments_lexer": "ipython3",
   "version": "3.11.3"
  }
 },
 "nbformat": 4,
 "nbformat_minor": 5
}
